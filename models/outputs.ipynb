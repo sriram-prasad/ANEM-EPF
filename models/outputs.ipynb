{
 "cells": [
  {
   "cell_type": "code",
   "execution_count": null,
   "id": "23eff9b3",
   "metadata": {},
   "outputs": [],
   "source": [
    "import os\n",
    "import pandas as pd\n",
    "import numpy as np\n",
    "import matplotlib.pyplot as plt\n",
    "import matplotlib.dates as mdates\n",
    "import seaborn as sns\n",
    "\n",
    "from neuralforecast import NeuralForecast\n",
    "from neuralforecast.models import LSTM\n",
    "from neuralforecast.losses.pytorch import MAE\n",
    "import torch.optim as optim\n",
    "\n",
    "from sklearn.metrics import mean_absolute_error, r2_score, root_mean_squared_error"
   ]
  },
  {
   "cell_type": "code",
   "execution_count": null,
   "id": "d855c5d7",
   "metadata": {},
   "outputs": [],
   "source": [
    "# Custom Metrics\n",
    "def mean_bias_error(y_true, y_pred):\n",
    "    return np.mean(y_pred - y_true)\n",
    "\n",
    "\n",
    "def symmetric_mean_absolute_percentage_error(y_true, y_pred):\n",
    "    epsilon = 1e-10\n",
    "    return np.mean(\n",
    "        2 * np.abs(y_pred - y_true) / (np.abs(y_true) + np.abs(y_pred) + epsilon)\n",
    "    )\n",
    "\n",
    "\n",
    "def rmae(y_true, y_pred, naive_forecast):\n",
    "    return mean_absolute_error(y_true, y_pred) / mean_absolute_error(\n",
    "        y_true, naive_forecast\n",
    "    )\n",
    "\n",
    "\n",
    "# Set plot style\n",
    "sns.set_theme(style=\"whitegrid\")\n",
    "\n",
    "# States and Weeks\n",
    "states = [\"VIC\", \"SA\", \"NSW\", \"QLD\", \"TAS\"]\n",
    "forecast_windows = {\n",
    "    1: (\"2025-03-01 00:00:00\", \"2025-03-07 23:00:00\"),\n",
    "    2: (\"2025-03-08 00:00:00\", \"2025-03-14 23:00:00\"),\n",
    "    3: (\"2025-03-15 00:00:00\", \"2025-03-21 23:00:00\"),\n",
    "    4: (\"2025-03-22 00:00:00\", \"2025-03-28 23:00:00\"),\n",
    "}\n",
    "weeks = {1: \"Week 1\", 2: \"Week 2\", 3: \"Week 3\", 4: \"Week 4\"}\n",
    "\n",
    "for state in states:\n",
    "    print(f\"Processing state: {state}\")\n",
    "    # Load and preprocess data\n",
    "    df = pd.read_csv(\n",
    "        f\"../data/featurised/{state}_test_final.csv\", parse_dates=[\"SETTLEMENTDATE\"]\n",
    "    )\n",
    "    df.rename(columns={\"SETTLEMENTDATE\": \"ds\", \"asinh_RRP\": \"y\"}, inplace=True)\n",
    "    df[\"unique_id\"] = state\n",
    "    rrp_median = df[\"rrp_median\"].values[0]\n",
    "    rrp_mad = df[\"rrp_mad\"].values[0]\n",
    "\n",
    "    exog_cols = [\n",
    "        \"asinh_RRP_lag_168\",\n",
    "        \"TOTALDEMAND\",\n",
    "        \"NETINTERCHANGE\",\n",
    "        \"SS_SOLAR_UIGF\",\n",
    "        \"SS_WIND_UIGF\",\n",
    "        \"tempC\",\n",
    "    ]\n",
    "    req_cols = [\"unique_id\", \"ds\", \"y\"]\n",
    "    df = df[req_cols + exog_cols]\n",
    "    df.sort_values(by=[\"unique_id\", \"ds\"], inplace=True)\n",
    "    df.set_index(\"ds\", inplace=True)\n",
    "    df = df.asfreq(\"h\").reset_index()\n",
    "\n",
    "    # Prepare combined results and metrics storage\n",
    "    all_results_df = pd.DataFrame()\n",
    "    metrics_df = pd.DataFrame()\n",
    "\n",
    "    for week in range(1, 5):\n",
    "        print(f\"Processing week: {weeks[week]}\")\n",
    "        forecast_start, forecast_end = forecast_windows[week]\n",
    "\n",
    "        Y_train_df = df[df.ds < forecast_start].copy()\n",
    "        Y_test_df = df[(df.ds >= forecast_start) & (df.ds <= forecast_end)].copy()\n",
    "\n",
    "        # Define LSTM model\n",
    "        nf = NeuralForecast(\n",
    "            models=[\n",
    "                LSTM(\n",
    "                    h=168,\n",
    "                    input_size=336,\n",
    "                    loss=MAE(),\n",
    "                    scaler_type=\"minmax\",\n",
    "                    encoder_n_layers=3,\n",
    "                    encoder_hidden_size=64,\n",
    "                    decoder_hidden_size=64,\n",
    "                    decoder_layers=3,\n",
    "                    max_steps=250,\n",
    "                    futr_exog_list=exog_cols,\n",
    "                    early_stop_patience_steps=50,\n",
    "                    recurrent=False,\n",
    "                    random_seed=42,\n",
    "                ),\n",
    "            ],\n",
    "            freq=\"h\",\n",
    "        )\n",
    "\n",
    "        # Train the model\n",
    "        val_len = 24 * 7 * 4\n",
    "        nf.fit(df=Y_train_df, val_size=val_len)\n",
    "\n",
    "        # Make predictions\n",
    "        forecasts = nf.predict(futr_df=Y_test_df)\n",
    "        Y_test_df = Y_test_df.reset_index(drop=True)\n",
    "        forecasts = forecasts.reset_index(drop=True)\n",
    "\n",
    "        # Merge predictions with actual values\n",
    "        results_df = pd.merge(\n",
    "            Y_test_df[[\"ds\", \"y\"]], forecasts[[\"ds\", \"LSTM\"]], on=\"ds\", how=\"left\"\n",
    "        )\n",
    "\n",
    "        results_df[\"y\"] = np.sinh(results_df[\"y\"]) * rrp_mad + rrp_median\n",
    "        results_df[\"LSTM\"] = np.sinh(results_df[\"LSTM\"]) * rrp_mad + rrp_median\n",
    "\n",
    "        # Naive Forecast (last 168 hours of training)\n",
    "        Y_train_df[\"y\"] = np.sinh(Y_train_df[\"y\"]) * rrp_mad + rrp_median\n",
    "        naive_forecast = Y_train_df[\"y\"].iloc[-168:].reset_index(drop=True)\n",
    "        results_df[\"Naive\"] = naive_forecast.values\n",
    "\n",
    "        # Add week identifier\n",
    "        results_df[\"week\"] = weeks[week]\n",
    "\n",
    "        # Append to combined results for the state\n",
    "        all_results_df = pd.concat([all_results_df, results_df], ignore_index=True)\n",
    "\n",
    "        # Calculate metrics for LSTM and Naive\n",
    "        for model in [\"LSTM\", \"Naive\"]:\n",
    "            metrics = {\n",
    "                \"MAE\": float(mean_absolute_error(results_df[\"y\"], results_df[model])),\n",
    "                \"rMAE\": float(\n",
    "                    rmae(results_df[\"y\"], results_df[model], results_df[\"Naive\"])\n",
    "                ),\n",
    "                \"RMSE\": float(\n",
    "                    root_mean_squared_error(results_df[\"y\"], results_df[model])\n",
    "                ),\n",
    "                \"MBE\": float(mean_bias_error(results_df[\"y\"], results_df[model])),\n",
    "                \"SMAPE\": float(\n",
    "                    symmetric_mean_absolute_percentage_error(\n",
    "                        results_df[\"y\"], results_df[model]\n",
    "                    )\n",
    "                ),\n",
    "                \"R2\": float(r2_score(results_df[\"y\"], results_df[model])),\n",
    "            }\n",
    "\n",
    "            print(f\"Metrics for {model}: {metrics}\")\n",
    "\n",
    "            # Add to metrics_df\n",
    "            week_metrics_df = pd.DataFrame(\n",
    "                metrics, index=[f\"{model} ({weeks[week]})\"]\n",
    "            ).T\n",
    "            metrics_df = pd.concat([metrics_df, week_metrics_df], axis=1)\n",
    "\n",
    "        print(f\"Completed: {state} - {weeks[week]}\")\n",
    "\n",
    "    # Save all metrics for this state\n",
    "    metrics_df.to_csv(\n",
    "        f\"./asinh_lstm_outputs/{state}/{state}_metrics_all_weeks.csv\", index=True\n",
    "    )\n",
    "\n",
    "    # Save all results for this state\n",
    "    all_results_df.to_csv(\n",
    "        f\"./asinh_lstm_outputs/{state}/{state}_results_all_weeks.csv\", index=False\n",
    "    )\n",
    "\n",
    "    print(f\"Saved consolidated metrics and results for {state}\")\n",
    "\n",
    "print(\"All states and weeks processed successfully.\")"
   ]
  },
  {
   "cell_type": "code",
   "execution_count": 1,
   "id": "c39c9d4f",
   "metadata": {},
   "outputs": [],
   "source": [
    "import os\n",
    "import pandas as pd\n",
    "import numpy as np\n",
    "import matplotlib.pyplot as plt\n",
    "import matplotlib.dates as mdates\n",
    "import seaborn as sns\n",
    "\n",
    "from neuralforecast import NeuralForecast\n",
    "from neuralforecast.models import KAN\n",
    "from neuralforecast.losses.pytorch import MAE\n",
    "\n",
    "from sklearn.metrics import mean_absolute_error, r2_score, root_mean_squared_error"
   ]
  },
  {
   "cell_type": "code",
   "execution_count": 2,
   "id": "76450622",
   "metadata": {},
   "outputs": [
    {
     "name": "stderr",
     "output_type": "stream",
     "text": [
      "Seed set to 42\n"
     ]
    },
    {
     "name": "stdout",
     "output_type": "stream",
     "text": [
      "Processing state: VIC\n",
      "Processing week: Week 1\n"
     ]
    },
    {
     "name": "stderr",
     "output_type": "stream",
     "text": [
      "GPU available: False, used: False\n",
      "TPU available: False, using: 0 TPU cores\n",
      "HPU available: False, using: 0 HPUs\n",
      "\n",
      "  | Name         | Type          | Params | Mode \n",
      "-------------------------------------------------------\n",
      "0 | loss         | MAE           | 0      | train\n",
      "1 | padder_train | ConstantPad1d | 0      | train\n",
      "2 | scaler       | TemporalNorm  | 0      | train\n",
      "3 | layers       | ModuleList    | 19.9 M | train\n",
      "-------------------------------------------------------\n",
      "19.9 M    Trainable params\n",
      "0         Non-trainable params\n",
      "19.9 M    Total params\n",
      "79.479    Total estimated model params size (MB)\n",
      "8         Modules in train mode\n",
      "0         Modules in eval mode\n"
     ]
    },
    {
     "data": {
      "application/vnd.jupyter.widget-view+json": {
       "model_id": "5ba04fed862147c49b8435cba84fd74b",
       "version_major": 2,
       "version_minor": 0
      },
      "text/plain": [
       "Sanity Checking: |          | 0/? [00:00<?, ?it/s]"
      ]
     },
     "metadata": {},
     "output_type": "display_data"
    },
    {
     "data": {
      "application/vnd.jupyter.widget-view+json": {
       "model_id": "0c68fa1341154783a65f094d8b5fc934",
       "version_major": 2,
       "version_minor": 0
      },
      "text/plain": [
       "Training: |          | 0/? [00:00<?, ?it/s]"
      ]
     },
     "metadata": {},
     "output_type": "display_data"
    },
    {
     "data": {
      "application/vnd.jupyter.widget-view+json": {
       "model_id": "54422941cdd045978a978e94d5e41948",
       "version_major": 2,
       "version_minor": 0
      },
      "text/plain": [
       "Validation: |          | 0/? [00:00<?, ?it/s]"
      ]
     },
     "metadata": {},
     "output_type": "display_data"
    },
    {
     "data": {
      "application/vnd.jupyter.widget-view+json": {
       "model_id": "a8f36cd8866e4366b207bf8c0462d2f6",
       "version_major": 2,
       "version_minor": 0
      },
      "text/plain": [
       "Validation: |          | 0/? [00:00<?, ?it/s]"
      ]
     },
     "metadata": {},
     "output_type": "display_data"
    },
    {
     "name": "stderr",
     "output_type": "stream",
     "text": [
      "`Trainer.fit` stopped: `max_steps=250` reached.\n",
      "Trainer already configured with model summary callbacks: [<class 'pytorch_lightning.callbacks.model_summary.ModelSummary'>]. Skipping setting a default `ModelSummary` callback.\n",
      "GPU available: False, used: False\n",
      "TPU available: False, using: 0 TPU cores\n",
      "HPU available: False, using: 0 HPUs\n"
     ]
    },
    {
     "data": {
      "application/vnd.jupyter.widget-view+json": {
       "model_id": "75f5952b021848f68d05127e75e1d3ab",
       "version_major": 2,
       "version_minor": 0
      },
      "text/plain": [
       "Predicting: |          | 0/? [00:00<?, ?it/s]"
      ]
     },
     "metadata": {},
     "output_type": "display_data"
    },
    {
     "name": "stderr",
     "output_type": "stream",
     "text": [
      "Seed set to 42\n"
     ]
    },
    {
     "name": "stdout",
     "output_type": "stream",
     "text": [
      "Metrics for KAN: {'MAE': 27.333438965933656, 'rMAE': 0.46865696801207646, 'RMSE': 33.26212347374885, 'MBE': 14.464736079261414, 'SMAPE': 0.8545798492861301, 'R2': 0.6830900135173873}\n",
      "Metrics for Naive: {'MAE': 58.322911706349196, 'rMAE': 1.0, 'RMSE': 74.90270640894816, 'MBE': 41.945649801587294, 'SMAPE': 1.0930073205566921, 'R2': -0.6070559691060158}\n",
      "Completed: VIC - Week 1\n",
      "Processing week: Week 2\n"
     ]
    },
    {
     "name": "stderr",
     "output_type": "stream",
     "text": [
      "GPU available: False, used: False\n",
      "TPU available: False, using: 0 TPU cores\n",
      "HPU available: False, using: 0 HPUs\n",
      "\n",
      "  | Name         | Type          | Params | Mode \n",
      "-------------------------------------------------------\n",
      "0 | loss         | MAE           | 0      | train\n",
      "1 | padder_train | ConstantPad1d | 0      | train\n",
      "2 | scaler       | TemporalNorm  | 0      | train\n",
      "3 | layers       | ModuleList    | 19.9 M | train\n",
      "-------------------------------------------------------\n",
      "19.9 M    Trainable params\n",
      "0         Non-trainable params\n",
      "19.9 M    Total params\n",
      "79.479    Total estimated model params size (MB)\n",
      "8         Modules in train mode\n",
      "0         Modules in eval mode\n"
     ]
    },
    {
     "data": {
      "application/vnd.jupyter.widget-view+json": {
       "model_id": "7e2131815a4d451ba79cf91e12d4d245",
       "version_major": 2,
       "version_minor": 0
      },
      "text/plain": [
       "Sanity Checking: |          | 0/? [00:00<?, ?it/s]"
      ]
     },
     "metadata": {},
     "output_type": "display_data"
    },
    {
     "data": {
      "application/vnd.jupyter.widget-view+json": {
       "model_id": "79db8c795ae940b283c19e5360841fc8",
       "version_major": 2,
       "version_minor": 0
      },
      "text/plain": [
       "Training: |          | 0/? [00:00<?, ?it/s]"
      ]
     },
     "metadata": {},
     "output_type": "display_data"
    },
    {
     "data": {
      "application/vnd.jupyter.widget-view+json": {
       "model_id": "e913a4e965f84d5f8701f0ca2526ed19",
       "version_major": 2,
       "version_minor": 0
      },
      "text/plain": [
       "Validation: |          | 0/? [00:00<?, ?it/s]"
      ]
     },
     "metadata": {},
     "output_type": "display_data"
    },
    {
     "data": {
      "application/vnd.jupyter.widget-view+json": {
       "model_id": "d3e5b304e68d43b491c74db86b0777b9",
       "version_major": 2,
       "version_minor": 0
      },
      "text/plain": [
       "Validation: |          | 0/? [00:00<?, ?it/s]"
      ]
     },
     "metadata": {},
     "output_type": "display_data"
    },
    {
     "name": "stderr",
     "output_type": "stream",
     "text": [
      "`Trainer.fit` stopped: `max_steps=250` reached.\n",
      "Trainer already configured with model summary callbacks: [<class 'pytorch_lightning.callbacks.model_summary.ModelSummary'>]. Skipping setting a default `ModelSummary` callback.\n",
      "GPU available: False, used: False\n",
      "TPU available: False, using: 0 TPU cores\n",
      "HPU available: False, using: 0 HPUs\n"
     ]
    },
    {
     "data": {
      "application/vnd.jupyter.widget-view+json": {
       "model_id": "4478f36b4fa442939b4264a97de1227c",
       "version_major": 2,
       "version_minor": 0
      },
      "text/plain": [
       "Predicting: |          | 0/? [00:00<?, ?it/s]"
      ]
     },
     "metadata": {},
     "output_type": "display_data"
    },
    {
     "name": "stderr",
     "output_type": "stream",
     "text": [
      "Seed set to 42\n"
     ]
    },
    {
     "name": "stdout",
     "output_type": "stream",
     "text": [
      "Metrics for KAN: {'MAE': 27.33232937949044, 'rMAE': 0.4144200367914535, 'RMSE': 37.30751679413, 'MBE': 2.3218390346708753, 'SMAPE': 0.4287428244987673, 'R2': 0.5582065127293241}\n",
      "Metrics for Naive: {'MAE': 65.95320436507936, 'rMAE': 1.0, 'RMSE': 86.84198259885441, 'MBE': -50.043124999999996, 'SMAPE': 1.1781927883799512, 'R2': -1.3937901892440392}\n",
      "Completed: VIC - Week 2\n",
      "Processing week: Week 3\n"
     ]
    },
    {
     "name": "stderr",
     "output_type": "stream",
     "text": [
      "GPU available: False, used: False\n",
      "TPU available: False, using: 0 TPU cores\n",
      "HPU available: False, using: 0 HPUs\n",
      "\n",
      "  | Name         | Type          | Params | Mode \n",
      "-------------------------------------------------------\n",
      "0 | loss         | MAE           | 0      | train\n",
      "1 | padder_train | ConstantPad1d | 0      | train\n",
      "2 | scaler       | TemporalNorm  | 0      | train\n",
      "3 | layers       | ModuleList    | 19.9 M | train\n",
      "-------------------------------------------------------\n",
      "19.9 M    Trainable params\n",
      "0         Non-trainable params\n",
      "19.9 M    Total params\n",
      "79.479    Total estimated model params size (MB)\n",
      "8         Modules in train mode\n",
      "0         Modules in eval mode\n"
     ]
    },
    {
     "data": {
      "application/vnd.jupyter.widget-view+json": {
       "model_id": "03da07ca3b7e4f3a936a8d6bd3afba2d",
       "version_major": 2,
       "version_minor": 0
      },
      "text/plain": [
       "Sanity Checking: |          | 0/? [00:00<?, ?it/s]"
      ]
     },
     "metadata": {},
     "output_type": "display_data"
    },
    {
     "data": {
      "application/vnd.jupyter.widget-view+json": {
       "model_id": "b3ba03f7151b4377ba9bb95f7a7bdd26",
       "version_major": 2,
       "version_minor": 0
      },
      "text/plain": [
       "Training: |          | 0/? [00:00<?, ?it/s]"
      ]
     },
     "metadata": {},
     "output_type": "display_data"
    },
    {
     "data": {
      "application/vnd.jupyter.widget-view+json": {
       "model_id": "bb391775bd0242a696784dcedde337a2",
       "version_major": 2,
       "version_minor": 0
      },
      "text/plain": [
       "Validation: |          | 0/? [00:00<?, ?it/s]"
      ]
     },
     "metadata": {},
     "output_type": "display_data"
    },
    {
     "data": {
      "application/vnd.jupyter.widget-view+json": {
       "model_id": "e4ea8e93b6ca48029d4f98f50455c145",
       "version_major": 2,
       "version_minor": 0
      },
      "text/plain": [
       "Validation: |          | 0/? [00:00<?, ?it/s]"
      ]
     },
     "metadata": {},
     "output_type": "display_data"
    },
    {
     "name": "stderr",
     "output_type": "stream",
     "text": [
      "`Trainer.fit` stopped: `max_steps=250` reached.\n",
      "Trainer already configured with model summary callbacks: [<class 'pytorch_lightning.callbacks.model_summary.ModelSummary'>]. Skipping setting a default `ModelSummary` callback.\n",
      "GPU available: False, used: False\n",
      "TPU available: False, using: 0 TPU cores\n",
      "HPU available: False, using: 0 HPUs\n"
     ]
    },
    {
     "data": {
      "application/vnd.jupyter.widget-view+json": {
       "model_id": "9e12b25e5d4946b8996dcf0ad7794a26",
       "version_major": 2,
       "version_minor": 0
      },
      "text/plain": [
       "Predicting: |          | 0/? [00:00<?, ?it/s]"
      ]
     },
     "metadata": {},
     "output_type": "display_data"
    },
    {
     "name": "stderr",
     "output_type": "stream",
     "text": [
      "Seed set to 42\n"
     ]
    },
    {
     "name": "stdout",
     "output_type": "stream",
     "text": [
      "Metrics for KAN: {'MAE': 29.530180664062495, 'rMAE': 0.6318362570372402, 'RMSE': 36.92529385240102, 'MBE': -4.864200490921261, 'SMAPE': 0.6791739104661546, 'R2': 0.6269706721393553}\n",
      "Metrics for Naive: {'MAE': 46.73707837301587, 'rMAE': 1.0, 'RMSE': 67.88470832778063, 'MBE': 12.535600198412702, 'SMAPE': 0.7757357946568361, 'R2': -0.26077901092186173}\n",
      "Completed: VIC - Week 3\n",
      "Processing week: Week 4\n"
     ]
    },
    {
     "name": "stderr",
     "output_type": "stream",
     "text": [
      "GPU available: False, used: False\n",
      "TPU available: False, using: 0 TPU cores\n",
      "HPU available: False, using: 0 HPUs\n",
      "\n",
      "  | Name         | Type          | Params | Mode \n",
      "-------------------------------------------------------\n",
      "0 | loss         | MAE           | 0      | train\n",
      "1 | padder_train | ConstantPad1d | 0      | train\n",
      "2 | scaler       | TemporalNorm  | 0      | train\n",
      "3 | layers       | ModuleList    | 19.9 M | train\n",
      "-------------------------------------------------------\n",
      "19.9 M    Trainable params\n",
      "0         Non-trainable params\n",
      "19.9 M    Total params\n",
      "79.479    Total estimated model params size (MB)\n",
      "8         Modules in train mode\n",
      "0         Modules in eval mode\n"
     ]
    },
    {
     "data": {
      "application/vnd.jupyter.widget-view+json": {
       "model_id": "01dd1cad35ce458bb814271f648e946b",
       "version_major": 2,
       "version_minor": 0
      },
      "text/plain": [
       "Sanity Checking: |          | 0/? [00:00<?, ?it/s]"
      ]
     },
     "metadata": {},
     "output_type": "display_data"
    },
    {
     "data": {
      "application/vnd.jupyter.widget-view+json": {
       "model_id": "d333e5a8a83f4cfca1b46e00b2ab0a97",
       "version_major": 2,
       "version_minor": 0
      },
      "text/plain": [
       "Training: |          | 0/? [00:00<?, ?it/s]"
      ]
     },
     "metadata": {},
     "output_type": "display_data"
    },
    {
     "data": {
      "application/vnd.jupyter.widget-view+json": {
       "model_id": "a097b4aedc18467eb4394fbc02034717",
       "version_major": 2,
       "version_minor": 0
      },
      "text/plain": [
       "Validation: |          | 0/? [00:00<?, ?it/s]"
      ]
     },
     "metadata": {},
     "output_type": "display_data"
    },
    {
     "data": {
      "application/vnd.jupyter.widget-view+json": {
       "model_id": "758bd8ff5425463a893c5557a2020d32",
       "version_major": 2,
       "version_minor": 0
      },
      "text/plain": [
       "Validation: |          | 0/? [00:00<?, ?it/s]"
      ]
     },
     "metadata": {},
     "output_type": "display_data"
    },
    {
     "name": "stderr",
     "output_type": "stream",
     "text": [
      "`Trainer.fit` stopped: `max_steps=250` reached.\n",
      "Trainer already configured with model summary callbacks: [<class 'pytorch_lightning.callbacks.model_summary.ModelSummary'>]. Skipping setting a default `ModelSummary` callback.\n",
      "GPU available: False, used: False\n",
      "TPU available: False, using: 0 TPU cores\n",
      "HPU available: False, using: 0 HPUs\n"
     ]
    },
    {
     "data": {
      "application/vnd.jupyter.widget-view+json": {
       "model_id": "f7d9e862292546529e1d1d028aa8f583",
       "version_major": 2,
       "version_minor": 0
      },
      "text/plain": [
       "Predicting: |          | 0/? [00:00<?, ?it/s]"
      ]
     },
     "metadata": {},
     "output_type": "display_data"
    },
    {
     "name": "stderr",
     "output_type": "stream",
     "text": [
      "Seed set to 42\n"
     ]
    },
    {
     "name": "stdout",
     "output_type": "stream",
     "text": [
      "Metrics for KAN: {'MAE': 25.27859094105069, 'rMAE': 0.5788956754403367, 'RMSE': 32.81249940238619, 'MBE': -1.2016720472063345, 'SMAPE': 0.6235110700159504, 'R2': 0.6610557376779342}\n",
      "Metrics for Naive: {'MAE': 43.66691964285714, 'rMAE': 1.0, 'RMSE': 57.44512141795026, 'MBE': 7.286631944444444, 'SMAPE': 0.8813230862643671, 'R2': -0.0388574635901584}\n",
      "Completed: VIC - Week 4\n",
      "Saved consolidated metrics and results for VIC\n",
      "Processing state: SA\n",
      "Processing week: Week 1\n"
     ]
    },
    {
     "name": "stderr",
     "output_type": "stream",
     "text": [
      "GPU available: False, used: False\n",
      "TPU available: False, using: 0 TPU cores\n",
      "HPU available: False, using: 0 HPUs\n",
      "\n",
      "  | Name         | Type          | Params | Mode \n",
      "-------------------------------------------------------\n",
      "0 | loss         | MAE           | 0      | train\n",
      "1 | padder_train | ConstantPad1d | 0      | train\n",
      "2 | scaler       | TemporalNorm  | 0      | train\n",
      "3 | layers       | ModuleList    | 19.9 M | train\n",
      "-------------------------------------------------------\n",
      "19.9 M    Trainable params\n",
      "0         Non-trainable params\n",
      "19.9 M    Total params\n",
      "79.479    Total estimated model params size (MB)\n",
      "8         Modules in train mode\n",
      "0         Modules in eval mode\n"
     ]
    },
    {
     "data": {
      "application/vnd.jupyter.widget-view+json": {
       "model_id": "e053318cb1fb419fa986b2c14b0b3f54",
       "version_major": 2,
       "version_minor": 0
      },
      "text/plain": [
       "Sanity Checking: |          | 0/? [00:00<?, ?it/s]"
      ]
     },
     "metadata": {},
     "output_type": "display_data"
    },
    {
     "data": {
      "application/vnd.jupyter.widget-view+json": {
       "model_id": "0957adb045344d0f9b903c6783d9dba5",
       "version_major": 2,
       "version_minor": 0
      },
      "text/plain": [
       "Training: |          | 0/? [00:00<?, ?it/s]"
      ]
     },
     "metadata": {},
     "output_type": "display_data"
    },
    {
     "data": {
      "application/vnd.jupyter.widget-view+json": {
       "model_id": "e7b27e6661a24c0eb396f2f97a575617",
       "version_major": 2,
       "version_minor": 0
      },
      "text/plain": [
       "Validation: |          | 0/? [00:00<?, ?it/s]"
      ]
     },
     "metadata": {},
     "output_type": "display_data"
    },
    {
     "data": {
      "application/vnd.jupyter.widget-view+json": {
       "model_id": "2f7b988e228b4adb8e9bb98415e9f0bb",
       "version_major": 2,
       "version_minor": 0
      },
      "text/plain": [
       "Validation: |          | 0/? [00:00<?, ?it/s]"
      ]
     },
     "metadata": {},
     "output_type": "display_data"
    },
    {
     "name": "stderr",
     "output_type": "stream",
     "text": [
      "`Trainer.fit` stopped: `max_steps=250` reached.\n",
      "Trainer already configured with model summary callbacks: [<class 'pytorch_lightning.callbacks.model_summary.ModelSummary'>]. Skipping setting a default `ModelSummary` callback.\n",
      "GPU available: False, used: False\n",
      "TPU available: False, using: 0 TPU cores\n",
      "HPU available: False, using: 0 HPUs\n"
     ]
    },
    {
     "data": {
      "application/vnd.jupyter.widget-view+json": {
       "model_id": "9816ed07813949708fe98e98f0699288",
       "version_major": 2,
       "version_minor": 0
      },
      "text/plain": [
       "Predicting: |          | 0/? [00:00<?, ?it/s]"
      ]
     },
     "metadata": {},
     "output_type": "display_data"
    },
    {
     "name": "stderr",
     "output_type": "stream",
     "text": [
      "Seed set to 42\n"
     ]
    },
    {
     "name": "stdout",
     "output_type": "stream",
     "text": [
      "Metrics for KAN: {'MAE': 29.653670824444482, 'rMAE': 0.3995191237928666, 'RMSE': 40.31005731811286, 'MBE': 6.019425285581558, 'SMAPE': 0.7209822549084215, 'R2': 0.7328217301288346}\n",
      "Metrics for Naive: {'MAE': 74.22340773809523, 'rMAE': 1.0, 'RMSE': 111.92393355962712, 'MBE': 52.57030257936508, 'SMAPE': 1.0686205369455966, 'R2': -1.0597771302369203}\n",
      "Completed: SA - Week 1\n",
      "Processing week: Week 2\n"
     ]
    },
    {
     "name": "stderr",
     "output_type": "stream",
     "text": [
      "GPU available: False, used: False\n",
      "TPU available: False, using: 0 TPU cores\n",
      "HPU available: False, using: 0 HPUs\n",
      "\n",
      "  | Name         | Type          | Params | Mode \n",
      "-------------------------------------------------------\n",
      "0 | loss         | MAE           | 0      | train\n",
      "1 | padder_train | ConstantPad1d | 0      | train\n",
      "2 | scaler       | TemporalNorm  | 0      | train\n",
      "3 | layers       | ModuleList    | 19.9 M | train\n",
      "-------------------------------------------------------\n",
      "19.9 M    Trainable params\n",
      "0         Non-trainable params\n",
      "19.9 M    Total params\n",
      "79.479    Total estimated model params size (MB)\n",
      "8         Modules in train mode\n",
      "0         Modules in eval mode\n"
     ]
    },
    {
     "data": {
      "application/vnd.jupyter.widget-view+json": {
       "model_id": "f5213436299e41b788030707bd20fc5c",
       "version_major": 2,
       "version_minor": 0
      },
      "text/plain": [
       "Sanity Checking: |          | 0/? [00:00<?, ?it/s]"
      ]
     },
     "metadata": {},
     "output_type": "display_data"
    },
    {
     "data": {
      "application/vnd.jupyter.widget-view+json": {
       "model_id": "7948a4b2eb53474a88da9acf542c59ec",
       "version_major": 2,
       "version_minor": 0
      },
      "text/plain": [
       "Training: |          | 0/? [00:00<?, ?it/s]"
      ]
     },
     "metadata": {},
     "output_type": "display_data"
    },
    {
     "data": {
      "application/vnd.jupyter.widget-view+json": {
       "model_id": "91f492ec159344f888dc5ffdc9bf1e58",
       "version_major": 2,
       "version_minor": 0
      },
      "text/plain": [
       "Validation: |          | 0/? [00:00<?, ?it/s]"
      ]
     },
     "metadata": {},
     "output_type": "display_data"
    },
    {
     "data": {
      "application/vnd.jupyter.widget-view+json": {
       "model_id": "e32b1728b5bf420c904b55a81aed59b8",
       "version_major": 2,
       "version_minor": 0
      },
      "text/plain": [
       "Validation: |          | 0/? [00:00<?, ?it/s]"
      ]
     },
     "metadata": {},
     "output_type": "display_data"
    },
    {
     "name": "stderr",
     "output_type": "stream",
     "text": [
      "`Trainer.fit` stopped: `max_steps=250` reached.\n",
      "Trainer already configured with model summary callbacks: [<class 'pytorch_lightning.callbacks.model_summary.ModelSummary'>]. Skipping setting a default `ModelSummary` callback.\n",
      "GPU available: False, used: False\n",
      "TPU available: False, using: 0 TPU cores\n",
      "HPU available: False, using: 0 HPUs\n"
     ]
    },
    {
     "data": {
      "application/vnd.jupyter.widget-view+json": {
       "model_id": "83d2d0d7959640f4a8a4aad3c1c6055c",
       "version_major": 2,
       "version_minor": 0
      },
      "text/plain": [
       "Predicting: |          | 0/? [00:00<?, ?it/s]"
      ]
     },
     "metadata": {},
     "output_type": "display_data"
    },
    {
     "name": "stderr",
     "output_type": "stream",
     "text": [
      "Seed set to 42\n"
     ]
    },
    {
     "name": "stdout",
     "output_type": "stream",
     "text": [
      "Metrics for KAN: {'MAE': 46.04529565659781, 'rMAE': 0.4772821967138259, 'RMSE': 57.759528260479236, 'MBE': 7.20936088319809, 'SMAPE': 0.5516579713829637, 'R2': 0.3504920410270067}\n",
      "Metrics for Naive: {'MAE': 96.47394345238096, 'rMAE': 1.0, 'RMSE': 122.53946495338015, 'MBE': -77.25485615079366, 'SMAPE': 1.2762880189565788, 'R2': -1.9234061856907907}\n",
      "Completed: SA - Week 2\n",
      "Processing week: Week 3\n"
     ]
    },
    {
     "name": "stderr",
     "output_type": "stream",
     "text": [
      "GPU available: False, used: False\n",
      "TPU available: False, using: 0 TPU cores\n",
      "HPU available: False, using: 0 HPUs\n",
      "\n",
      "  | Name         | Type          | Params | Mode \n",
      "-------------------------------------------------------\n",
      "0 | loss         | MAE           | 0      | train\n",
      "1 | padder_train | ConstantPad1d | 0      | train\n",
      "2 | scaler       | TemporalNorm  | 0      | train\n",
      "3 | layers       | ModuleList    | 19.9 M | train\n",
      "-------------------------------------------------------\n",
      "19.9 M    Trainable params\n",
      "0         Non-trainable params\n",
      "19.9 M    Total params\n",
      "79.479    Total estimated model params size (MB)\n",
      "8         Modules in train mode\n",
      "0         Modules in eval mode\n"
     ]
    },
    {
     "data": {
      "application/vnd.jupyter.widget-view+json": {
       "model_id": "5ffba7a275404e76b58a0cfbb8eeab54",
       "version_major": 2,
       "version_minor": 0
      },
      "text/plain": [
       "Sanity Checking: |          | 0/? [00:00<?, ?it/s]"
      ]
     },
     "metadata": {},
     "output_type": "display_data"
    },
    {
     "data": {
      "application/vnd.jupyter.widget-view+json": {
       "model_id": "2592a5554de043b1962f5fab1515bac8",
       "version_major": 2,
       "version_minor": 0
      },
      "text/plain": [
       "Training: |          | 0/? [00:00<?, ?it/s]"
      ]
     },
     "metadata": {},
     "output_type": "display_data"
    },
    {
     "data": {
      "application/vnd.jupyter.widget-view+json": {
       "model_id": "02f3cb7b770d407b8aeeede2a5b3d141",
       "version_major": 2,
       "version_minor": 0
      },
      "text/plain": [
       "Validation: |          | 0/? [00:00<?, ?it/s]"
      ]
     },
     "metadata": {},
     "output_type": "display_data"
    },
    {
     "data": {
      "application/vnd.jupyter.widget-view+json": {
       "model_id": "ca462530bc5144bb89de0987182ef455",
       "version_major": 2,
       "version_minor": 0
      },
      "text/plain": [
       "Validation: |          | 0/? [00:00<?, ?it/s]"
      ]
     },
     "metadata": {},
     "output_type": "display_data"
    },
    {
     "name": "stderr",
     "output_type": "stream",
     "text": [
      "`Trainer.fit` stopped: `max_steps=250` reached.\n",
      "Trainer already configured with model summary callbacks: [<class 'pytorch_lightning.callbacks.model_summary.ModelSummary'>]. Skipping setting a default `ModelSummary` callback.\n",
      "GPU available: False, used: False\n",
      "TPU available: False, using: 0 TPU cores\n",
      "HPU available: False, using: 0 HPUs\n"
     ]
    },
    {
     "data": {
      "application/vnd.jupyter.widget-view+json": {
       "model_id": "239e0fb412554426b271de2eb4ec6cbe",
       "version_major": 2,
       "version_minor": 0
      },
      "text/plain": [
       "Predicting: |          | 0/? [00:00<?, ?it/s]"
      ]
     },
     "metadata": {},
     "output_type": "display_data"
    },
    {
     "name": "stderr",
     "output_type": "stream",
     "text": [
      "Seed set to 42\n"
     ]
    },
    {
     "name": "stdout",
     "output_type": "stream",
     "text": [
      "Metrics for KAN: {'MAE': 44.59939694873871, 'rMAE': 0.619600880722704, 'RMSE': 60.320749462123985, 'MBE': 27.411596590980654, 'SMAPE': 0.6938318830254181, 'R2': 0.4824805491853654}\n",
      "Metrics for Naive: {'MAE': 71.98084821428571, 'rMAE': 1.0, 'RMSE': 104.33300172031093, 'MBE': 36.47938988095238, 'SMAPE': 0.8754391936712913, 'R2': -0.5482340854344634}\n",
      "Completed: SA - Week 3\n",
      "Processing week: Week 4\n"
     ]
    },
    {
     "name": "stderr",
     "output_type": "stream",
     "text": [
      "GPU available: False, used: False\n",
      "TPU available: False, using: 0 TPU cores\n",
      "HPU available: False, using: 0 HPUs\n",
      "\n",
      "  | Name         | Type          | Params | Mode \n",
      "-------------------------------------------------------\n",
      "0 | loss         | MAE           | 0      | train\n",
      "1 | padder_train | ConstantPad1d | 0      | train\n",
      "2 | scaler       | TemporalNorm  | 0      | train\n",
      "3 | layers       | ModuleList    | 19.9 M | train\n",
      "-------------------------------------------------------\n",
      "19.9 M    Trainable params\n",
      "0         Non-trainable params\n",
      "19.9 M    Total params\n",
      "79.479    Total estimated model params size (MB)\n",
      "8         Modules in train mode\n",
      "0         Modules in eval mode\n"
     ]
    },
    {
     "data": {
      "application/vnd.jupyter.widget-view+json": {
       "model_id": "e43866e36fbc4cd0bbde8c82a8f3c8b0",
       "version_major": 2,
       "version_minor": 0
      },
      "text/plain": [
       "Sanity Checking: |          | 0/? [00:00<?, ?it/s]"
      ]
     },
     "metadata": {},
     "output_type": "display_data"
    },
    {
     "data": {
      "application/vnd.jupyter.widget-view+json": {
       "model_id": "28bd787e8df04f2f9c821c76aa28b504",
       "version_major": 2,
       "version_minor": 0
      },
      "text/plain": [
       "Training: |          | 0/? [00:00<?, ?it/s]"
      ]
     },
     "metadata": {},
     "output_type": "display_data"
    },
    {
     "data": {
      "application/vnd.jupyter.widget-view+json": {
       "model_id": "edba229784234323a45ba9cf5d7932ae",
       "version_major": 2,
       "version_minor": 0
      },
      "text/plain": [
       "Validation: |          | 0/? [00:00<?, ?it/s]"
      ]
     },
     "metadata": {},
     "output_type": "display_data"
    },
    {
     "data": {
      "application/vnd.jupyter.widget-view+json": {
       "model_id": "e4c2ca3ab1de4cd8857aedcbd3d2b606",
       "version_major": 2,
       "version_minor": 0
      },
      "text/plain": [
       "Validation: |          | 0/? [00:00<?, ?it/s]"
      ]
     },
     "metadata": {},
     "output_type": "display_data"
    },
    {
     "name": "stderr",
     "output_type": "stream",
     "text": [
      "`Trainer.fit` stopped: `max_steps=250` reached.\n",
      "Trainer already configured with model summary callbacks: [<class 'pytorch_lightning.callbacks.model_summary.ModelSummary'>]. Skipping setting a default `ModelSummary` callback.\n",
      "GPU available: False, used: False\n",
      "TPU available: False, using: 0 TPU cores\n",
      "HPU available: False, using: 0 HPUs\n"
     ]
    },
    {
     "data": {
      "application/vnd.jupyter.widget-view+json": {
       "model_id": "bb2110b9a5444070842bbd8368657919",
       "version_major": 2,
       "version_minor": 0
      },
      "text/plain": [
       "Predicting: |          | 0/? [00:00<?, ?it/s]"
      ]
     },
     "metadata": {},
     "output_type": "display_data"
    },
    {
     "name": "stderr",
     "output_type": "stream",
     "text": [
      "Seed set to 42\n"
     ]
    },
    {
     "name": "stdout",
     "output_type": "stream",
     "text": [
      "Metrics for KAN: {'MAE': 29.144258591788155, 'rMAE': 0.5627546885209379, 'RMSE': 36.93415887601127, 'MBE': 8.95299927121117, 'SMAPE': 0.6985942590130847, 'R2': 0.6969941448510931}\n",
      "Metrics for Naive: {'MAE': 51.788566468253975, 'rMAE': 1.0, 'RMSE': 66.54052415656635, 'MBE': 7.058834325396826, 'SMAPE': 0.873086616649347, 'R2': 0.01651660930702692}\n",
      "Completed: SA - Week 4\n",
      "Saved consolidated metrics and results for SA\n",
      "Processing state: NSW\n",
      "Processing week: Week 1\n"
     ]
    },
    {
     "name": "stderr",
     "output_type": "stream",
     "text": [
      "GPU available: False, used: False\n",
      "TPU available: False, using: 0 TPU cores\n",
      "HPU available: False, using: 0 HPUs\n",
      "\n",
      "  | Name         | Type          | Params | Mode \n",
      "-------------------------------------------------------\n",
      "0 | loss         | MAE           | 0      | train\n",
      "1 | padder_train | ConstantPad1d | 0      | train\n",
      "2 | scaler       | TemporalNorm  | 0      | train\n",
      "3 | layers       | ModuleList    | 19.9 M | train\n",
      "-------------------------------------------------------\n",
      "19.9 M    Trainable params\n",
      "0         Non-trainable params\n",
      "19.9 M    Total params\n",
      "79.479    Total estimated model params size (MB)\n",
      "8         Modules in train mode\n",
      "0         Modules in eval mode\n"
     ]
    },
    {
     "data": {
      "application/vnd.jupyter.widget-view+json": {
       "model_id": "5d8599821c8f4b4aa98c1b118787ef68",
       "version_major": 2,
       "version_minor": 0
      },
      "text/plain": [
       "Sanity Checking: |          | 0/? [00:00<?, ?it/s]"
      ]
     },
     "metadata": {},
     "output_type": "display_data"
    },
    {
     "data": {
      "application/vnd.jupyter.widget-view+json": {
       "model_id": "b8230af7e82d4c68806ba62cb2be0e88",
       "version_major": 2,
       "version_minor": 0
      },
      "text/plain": [
       "Training: |          | 0/? [00:00<?, ?it/s]"
      ]
     },
     "metadata": {},
     "output_type": "display_data"
    },
    {
     "data": {
      "application/vnd.jupyter.widget-view+json": {
       "model_id": "98a773d17ee246e095af167e8745df5f",
       "version_major": 2,
       "version_minor": 0
      },
      "text/plain": [
       "Validation: |          | 0/? [00:00<?, ?it/s]"
      ]
     },
     "metadata": {},
     "output_type": "display_data"
    },
    {
     "data": {
      "application/vnd.jupyter.widget-view+json": {
       "model_id": "b507a10dfbc447a5a3a275694151f162",
       "version_major": 2,
       "version_minor": 0
      },
      "text/plain": [
       "Validation: |          | 0/? [00:00<?, ?it/s]"
      ]
     },
     "metadata": {},
     "output_type": "display_data"
    },
    {
     "name": "stderr",
     "output_type": "stream",
     "text": [
      "`Trainer.fit` stopped: `max_steps=250` reached.\n",
      "Trainer already configured with model summary callbacks: [<class 'pytorch_lightning.callbacks.model_summary.ModelSummary'>]. Skipping setting a default `ModelSummary` callback.\n",
      "GPU available: False, used: False\n",
      "TPU available: False, using: 0 TPU cores\n",
      "HPU available: False, using: 0 HPUs\n"
     ]
    },
    {
     "data": {
      "application/vnd.jupyter.widget-view+json": {
       "model_id": "5309326eba2048d9a0abbc78fc641c8a",
       "version_major": 2,
       "version_minor": 0
      },
      "text/plain": [
       "Predicting: |          | 0/? [00:00<?, ?it/s]"
      ]
     },
     "metadata": {},
     "output_type": "display_data"
    },
    {
     "name": "stderr",
     "output_type": "stream",
     "text": [
      "Seed set to 42\n"
     ]
    },
    {
     "name": "stdout",
     "output_type": "stream",
     "text": [
      "Metrics for KAN: {'MAE': 26.44199385537041, 'rMAE': 0.708145754191279, 'RMSE': 37.99710643924657, 'MBE': -11.496662083277625, 'SMAPE': 0.5661428957384695, 'R2': 0.5647565027329957}\n",
      "Metrics for Naive: {'MAE': 37.33976190476191, 'rMAE': 1.0, 'RMSE': 46.60868886106842, 'MBE': 0.21389880952381055, 'SMAPE': 0.7410257794476134, 'R2': 0.3451150460902467}\n",
      "Completed: NSW - Week 1\n",
      "Processing week: Week 2\n"
     ]
    },
    {
     "name": "stderr",
     "output_type": "stream",
     "text": [
      "GPU available: False, used: False\n",
      "TPU available: False, using: 0 TPU cores\n",
      "HPU available: False, using: 0 HPUs\n",
      "\n",
      "  | Name         | Type          | Params | Mode \n",
      "-------------------------------------------------------\n",
      "0 | loss         | MAE           | 0      | train\n",
      "1 | padder_train | ConstantPad1d | 0      | train\n",
      "2 | scaler       | TemporalNorm  | 0      | train\n",
      "3 | layers       | ModuleList    | 19.9 M | train\n",
      "-------------------------------------------------------\n",
      "19.9 M    Trainable params\n",
      "0         Non-trainable params\n",
      "19.9 M    Total params\n",
      "79.479    Total estimated model params size (MB)\n",
      "8         Modules in train mode\n",
      "0         Modules in eval mode\n"
     ]
    },
    {
     "data": {
      "application/vnd.jupyter.widget-view+json": {
       "model_id": "ba00373ae2f54e21bd3d951c23ced621",
       "version_major": 2,
       "version_minor": 0
      },
      "text/plain": [
       "Sanity Checking: |          | 0/? [00:00<?, ?it/s]"
      ]
     },
     "metadata": {},
     "output_type": "display_data"
    },
    {
     "data": {
      "application/vnd.jupyter.widget-view+json": {
       "model_id": "5a5c9d3a626a42229076eb10e8c51392",
       "version_major": 2,
       "version_minor": 0
      },
      "text/plain": [
       "Training: |          | 0/? [00:00<?, ?it/s]"
      ]
     },
     "metadata": {},
     "output_type": "display_data"
    },
    {
     "data": {
      "application/vnd.jupyter.widget-view+json": {
       "model_id": "96a23a53c84b4666afcaa752779c4442",
       "version_major": 2,
       "version_minor": 0
      },
      "text/plain": [
       "Validation: |          | 0/? [00:00<?, ?it/s]"
      ]
     },
     "metadata": {},
     "output_type": "display_data"
    },
    {
     "data": {
      "application/vnd.jupyter.widget-view+json": {
       "model_id": "08c410e138eb478daaf2a47562b737f1",
       "version_major": 2,
       "version_minor": 0
      },
      "text/plain": [
       "Validation: |          | 0/? [00:00<?, ?it/s]"
      ]
     },
     "metadata": {},
     "output_type": "display_data"
    },
    {
     "name": "stderr",
     "output_type": "stream",
     "text": [
      "`Trainer.fit` stopped: `max_steps=250` reached.\n",
      "Trainer already configured with model summary callbacks: [<class 'pytorch_lightning.callbacks.model_summary.ModelSummary'>]. Skipping setting a default `ModelSummary` callback.\n",
      "GPU available: False, used: False\n",
      "TPU available: False, using: 0 TPU cores\n",
      "HPU available: False, using: 0 HPUs\n"
     ]
    },
    {
     "data": {
      "application/vnd.jupyter.widget-view+json": {
       "model_id": "47b0ea075bc545a992e56eca56679036",
       "version_major": 2,
       "version_minor": 0
      },
      "text/plain": [
       "Predicting: |          | 0/? [00:00<?, ?it/s]"
      ]
     },
     "metadata": {},
     "output_type": "display_data"
    },
    {
     "name": "stderr",
     "output_type": "stream",
     "text": [
      "Seed set to 42\n"
     ]
    },
    {
     "name": "stdout",
     "output_type": "stream",
     "text": [
      "Metrics for KAN: {'MAE': 34.570985312688926, 'rMAE': 0.7490809559758917, 'RMSE': 109.72766502806913, 'MBE': -16.29763611566453, 'SMAPE': 0.48110638107712084, 'R2': 0.13218648140232514}\n",
      "Metrics for Naive: {'MAE': 46.1512003968254, 'rMAE': 1.0, 'RMSE': 115.93713324664964, 'MBE': -17.78463293650794, 'SMAPE': 0.7162931697084127, 'R2': 0.031188576995872408}\n",
      "Completed: NSW - Week 2\n",
      "Processing week: Week 3\n"
     ]
    },
    {
     "name": "stderr",
     "output_type": "stream",
     "text": [
      "GPU available: False, used: False\n",
      "TPU available: False, using: 0 TPU cores\n",
      "HPU available: False, using: 0 HPUs\n",
      "\n",
      "  | Name         | Type          | Params | Mode \n",
      "-------------------------------------------------------\n",
      "0 | loss         | MAE           | 0      | train\n",
      "1 | padder_train | ConstantPad1d | 0      | train\n",
      "2 | scaler       | TemporalNorm  | 0      | train\n",
      "3 | layers       | ModuleList    | 19.9 M | train\n",
      "-------------------------------------------------------\n",
      "19.9 M    Trainable params\n",
      "0         Non-trainable params\n",
      "19.9 M    Total params\n",
      "79.479    Total estimated model params size (MB)\n",
      "8         Modules in train mode\n",
      "0         Modules in eval mode\n"
     ]
    },
    {
     "data": {
      "application/vnd.jupyter.widget-view+json": {
       "model_id": "863ae843a1a1448abfef2cb9b8ddff34",
       "version_major": 2,
       "version_minor": 0
      },
      "text/plain": [
       "Sanity Checking: |          | 0/? [00:00<?, ?it/s]"
      ]
     },
     "metadata": {},
     "output_type": "display_data"
    },
    {
     "data": {
      "application/vnd.jupyter.widget-view+json": {
       "model_id": "8ea5f983621c41d294d8b4cff849b914",
       "version_major": 2,
       "version_minor": 0
      },
      "text/plain": [
       "Training: |          | 0/? [00:00<?, ?it/s]"
      ]
     },
     "metadata": {},
     "output_type": "display_data"
    },
    {
     "data": {
      "application/vnd.jupyter.widget-view+json": {
       "model_id": "f8c06f4b598c4b2eb32b6babf24c2efa",
       "version_major": 2,
       "version_minor": 0
      },
      "text/plain": [
       "Validation: |          | 0/? [00:00<?, ?it/s]"
      ]
     },
     "metadata": {},
     "output_type": "display_data"
    },
    {
     "data": {
      "application/vnd.jupyter.widget-view+json": {
       "model_id": "54ea12fe2de0453a810966100d35c62a",
       "version_major": 2,
       "version_minor": 0
      },
      "text/plain": [
       "Validation: |          | 0/? [00:00<?, ?it/s]"
      ]
     },
     "metadata": {},
     "output_type": "display_data"
    },
    {
     "name": "stderr",
     "output_type": "stream",
     "text": [
      "`Trainer.fit` stopped: `max_steps=250` reached.\n",
      "Trainer already configured with model summary callbacks: [<class 'pytorch_lightning.callbacks.model_summary.ModelSummary'>]. Skipping setting a default `ModelSummary` callback.\n",
      "GPU available: False, used: False\n",
      "TPU available: False, using: 0 TPU cores\n",
      "HPU available: False, using: 0 HPUs\n"
     ]
    },
    {
     "data": {
      "application/vnd.jupyter.widget-view+json": {
       "model_id": "ae9f589f656048489320e3b312ee83b9",
       "version_major": 2,
       "version_minor": 0
      },
      "text/plain": [
       "Predicting: |          | 0/? [00:00<?, ?it/s]"
      ]
     },
     "metadata": {},
     "output_type": "display_data"
    },
    {
     "name": "stderr",
     "output_type": "stream",
     "text": [
      "Seed set to 42\n"
     ]
    },
    {
     "name": "stdout",
     "output_type": "stream",
     "text": [
      "Metrics for KAN: {'MAE': 70.72815234653532, 'rMAE': 0.8242865453430305, 'RMSE': 334.7978833604496, 'MBE': -46.94836452302479, 'SMAPE': 0.5199107679319126, 'R2': 0.05759250986832887}\n",
      "Metrics for Naive: {'MAE': 85.80529761904762, 'rMAE': 1.0, 'RMSE': 359.04777704621296, 'MBE': -41.69196428571428, 'SMAPE': 0.6467397830510528, 'R2': -0.08387152376739415}\n",
      "Completed: NSW - Week 3\n",
      "Processing week: Week 4\n"
     ]
    },
    {
     "name": "stderr",
     "output_type": "stream",
     "text": [
      "GPU available: False, used: False\n",
      "TPU available: False, using: 0 TPU cores\n",
      "HPU available: False, using: 0 HPUs\n",
      "\n",
      "  | Name         | Type          | Params | Mode \n",
      "-------------------------------------------------------\n",
      "0 | loss         | MAE           | 0      | train\n",
      "1 | padder_train | ConstantPad1d | 0      | train\n",
      "2 | scaler       | TemporalNorm  | 0      | train\n",
      "3 | layers       | ModuleList    | 19.9 M | train\n",
      "-------------------------------------------------------\n",
      "19.9 M    Trainable params\n",
      "0         Non-trainable params\n",
      "19.9 M    Total params\n",
      "79.479    Total estimated model params size (MB)\n",
      "8         Modules in train mode\n",
      "0         Modules in eval mode\n"
     ]
    },
    {
     "data": {
      "application/vnd.jupyter.widget-view+json": {
       "model_id": "263fa0ceaef74b1483d62dad5a16fe31",
       "version_major": 2,
       "version_minor": 0
      },
      "text/plain": [
       "Sanity Checking: |          | 0/? [00:00<?, ?it/s]"
      ]
     },
     "metadata": {},
     "output_type": "display_data"
    },
    {
     "data": {
      "application/vnd.jupyter.widget-view+json": {
       "model_id": "265cdaec41b448179c6bed7f72e2b894",
       "version_major": 2,
       "version_minor": 0
      },
      "text/plain": [
       "Training: |          | 0/? [00:00<?, ?it/s]"
      ]
     },
     "metadata": {},
     "output_type": "display_data"
    },
    {
     "data": {
      "application/vnd.jupyter.widget-view+json": {
       "model_id": "2e9de93024424760b83a3187a957a0e8",
       "version_major": 2,
       "version_minor": 0
      },
      "text/plain": [
       "Validation: |          | 0/? [00:00<?, ?it/s]"
      ]
     },
     "metadata": {},
     "output_type": "display_data"
    },
    {
     "data": {
      "application/vnd.jupyter.widget-view+json": {
       "model_id": "ee909f057593459eaeadee812fb94d45",
       "version_major": 2,
       "version_minor": 0
      },
      "text/plain": [
       "Validation: |          | 0/? [00:00<?, ?it/s]"
      ]
     },
     "metadata": {},
     "output_type": "display_data"
    },
    {
     "name": "stderr",
     "output_type": "stream",
     "text": [
      "`Trainer.fit` stopped: `max_steps=250` reached.\n",
      "Trainer already configured with model summary callbacks: [<class 'pytorch_lightning.callbacks.model_summary.ModelSummary'>]. Skipping setting a default `ModelSummary` callback.\n",
      "GPU available: False, used: False\n",
      "TPU available: False, using: 0 TPU cores\n",
      "HPU available: False, using: 0 HPUs\n"
     ]
    },
    {
     "data": {
      "application/vnd.jupyter.widget-view+json": {
       "model_id": "12a67916bffa4a6083a1be1677cb59f6",
       "version_major": 2,
       "version_minor": 0
      },
      "text/plain": [
       "Predicting: |          | 0/? [00:00<?, ?it/s]"
      ]
     },
     "metadata": {},
     "output_type": "display_data"
    },
    {
     "name": "stderr",
     "output_type": "stream",
     "text": [
      "Seed set to 42\n"
     ]
    },
    {
     "name": "stdout",
     "output_type": "stream",
     "text": [
      "Metrics for KAN: {'MAE': 21.375269574059377, 'rMAE': 0.26264732180031036, 'RMSE': 29.393319616052633, 'MBE': 0.9649163300650453, 'SMAPE': 0.2762371004818589, 'R2': 0.45307446285379194}\n",
      "Metrics for Naive: {'MAE': 81.38392361111111, 'rMAE': 1.0, 'RMSE': 330.0790101833251, 'MBE': 40.28596726190476, 'SMAPE': 0.6325206173822652, 'R2': -67.9710351948646}\n",
      "Completed: NSW - Week 4\n",
      "Saved consolidated metrics and results for NSW\n",
      "Processing state: QLD\n",
      "Processing week: Week 1\n"
     ]
    },
    {
     "name": "stderr",
     "output_type": "stream",
     "text": [
      "GPU available: False, used: False\n",
      "TPU available: False, using: 0 TPU cores\n",
      "HPU available: False, using: 0 HPUs\n",
      "\n",
      "  | Name         | Type          | Params | Mode \n",
      "-------------------------------------------------------\n",
      "0 | loss         | MAE           | 0      | train\n",
      "1 | padder_train | ConstantPad1d | 0      | train\n",
      "2 | scaler       | TemporalNorm  | 0      | train\n",
      "3 | layers       | ModuleList    | 19.9 M | train\n",
      "-------------------------------------------------------\n",
      "19.9 M    Trainable params\n",
      "0         Non-trainable params\n",
      "19.9 M    Total params\n",
      "79.479    Total estimated model params size (MB)\n",
      "8         Modules in train mode\n",
      "0         Modules in eval mode\n"
     ]
    },
    {
     "data": {
      "application/vnd.jupyter.widget-view+json": {
       "model_id": "f9e8a714fe37414ab1d1b16956875711",
       "version_major": 2,
       "version_minor": 0
      },
      "text/plain": [
       "Sanity Checking: |          | 0/? [00:00<?, ?it/s]"
      ]
     },
     "metadata": {},
     "output_type": "display_data"
    },
    {
     "data": {
      "application/vnd.jupyter.widget-view+json": {
       "model_id": "44c62b1ee81347499be8bf83516e6799",
       "version_major": 2,
       "version_minor": 0
      },
      "text/plain": [
       "Training: |          | 0/? [00:00<?, ?it/s]"
      ]
     },
     "metadata": {},
     "output_type": "display_data"
    },
    {
     "data": {
      "application/vnd.jupyter.widget-view+json": {
       "model_id": "23bbddd4394f4a459f07bb9abea70f07",
       "version_major": 2,
       "version_minor": 0
      },
      "text/plain": [
       "Validation: |          | 0/? [00:00<?, ?it/s]"
      ]
     },
     "metadata": {},
     "output_type": "display_data"
    },
    {
     "data": {
      "application/vnd.jupyter.widget-view+json": {
       "model_id": "0120c494d0be45faa43e6cd9ace71cc0",
       "version_major": 2,
       "version_minor": 0
      },
      "text/plain": [
       "Validation: |          | 0/? [00:00<?, ?it/s]"
      ]
     },
     "metadata": {},
     "output_type": "display_data"
    },
    {
     "name": "stderr",
     "output_type": "stream",
     "text": [
      "`Trainer.fit` stopped: `max_steps=250` reached.\n",
      "Trainer already configured with model summary callbacks: [<class 'pytorch_lightning.callbacks.model_summary.ModelSummary'>]. Skipping setting a default `ModelSummary` callback.\n",
      "GPU available: False, used: False\n",
      "TPU available: False, using: 0 TPU cores\n",
      "HPU available: False, using: 0 HPUs\n"
     ]
    },
    {
     "data": {
      "application/vnd.jupyter.widget-view+json": {
       "model_id": "b46f761c9ed24415a5bce3ed588f38c7",
       "version_major": 2,
       "version_minor": 0
      },
      "text/plain": [
       "Predicting: |          | 0/? [00:00<?, ?it/s]"
      ]
     },
     "metadata": {},
     "output_type": "display_data"
    },
    {
     "name": "stderr",
     "output_type": "stream",
     "text": [
      "Seed set to 42\n"
     ]
    },
    {
     "name": "stdout",
     "output_type": "stream",
     "text": [
      "Metrics for KAN: {'MAE': 22.798792459397088, 'rMAE': 0.8023587294291732, 'RMSE': 31.55209060512166, 'MBE': -6.01688069722009, 'SMAPE': 0.5394869989016781, 'R2': 0.7363930940950972}\n",
      "Metrics for Naive: {'MAE': 28.414712301587304, 'rMAE': 1.0, 'RMSE': 37.84658253110921, 'MBE': -8.744375, 'SMAPE': 0.5573613076564472, 'R2': 0.6207253273008762}\n",
      "Completed: QLD - Week 1\n",
      "Processing week: Week 2\n"
     ]
    },
    {
     "name": "stderr",
     "output_type": "stream",
     "text": [
      "GPU available: False, used: False\n",
      "TPU available: False, using: 0 TPU cores\n",
      "HPU available: False, using: 0 HPUs\n",
      "\n",
      "  | Name         | Type          | Params | Mode \n",
      "-------------------------------------------------------\n",
      "0 | loss         | MAE           | 0      | train\n",
      "1 | padder_train | ConstantPad1d | 0      | train\n",
      "2 | scaler       | TemporalNorm  | 0      | train\n",
      "3 | layers       | ModuleList    | 19.9 M | train\n",
      "-------------------------------------------------------\n",
      "19.9 M    Trainable params\n",
      "0         Non-trainable params\n",
      "19.9 M    Total params\n",
      "79.479    Total estimated model params size (MB)\n",
      "8         Modules in train mode\n",
      "0         Modules in eval mode\n"
     ]
    },
    {
     "data": {
      "application/vnd.jupyter.widget-view+json": {
       "model_id": "8a8811dc88dd4ada97345647015f0bca",
       "version_major": 2,
       "version_minor": 0
      },
      "text/plain": [
       "Sanity Checking: |          | 0/? [00:00<?, ?it/s]"
      ]
     },
     "metadata": {},
     "output_type": "display_data"
    },
    {
     "data": {
      "application/vnd.jupyter.widget-view+json": {
       "model_id": "3cfcac60ce5449d1af6a204436134ffc",
       "version_major": 2,
       "version_minor": 0
      },
      "text/plain": [
       "Training: |          | 0/? [00:00<?, ?it/s]"
      ]
     },
     "metadata": {},
     "output_type": "display_data"
    },
    {
     "data": {
      "application/vnd.jupyter.widget-view+json": {
       "model_id": "517a6824af8c4107ba6a1a2fb7af71f7",
       "version_major": 2,
       "version_minor": 0
      },
      "text/plain": [
       "Validation: |          | 0/? [00:00<?, ?it/s]"
      ]
     },
     "metadata": {},
     "output_type": "display_data"
    },
    {
     "data": {
      "application/vnd.jupyter.widget-view+json": {
       "model_id": "a7e2fb9016554fa2b01561608feb18a6",
       "version_major": 2,
       "version_minor": 0
      },
      "text/plain": [
       "Validation: |          | 0/? [00:00<?, ?it/s]"
      ]
     },
     "metadata": {},
     "output_type": "display_data"
    },
    {
     "name": "stderr",
     "output_type": "stream",
     "text": [
      "`Trainer.fit` stopped: `max_steps=250` reached.\n",
      "Trainer already configured with model summary callbacks: [<class 'pytorch_lightning.callbacks.model_summary.ModelSummary'>]. Skipping setting a default `ModelSummary` callback.\n",
      "GPU available: False, used: False\n",
      "TPU available: False, using: 0 TPU cores\n",
      "HPU available: False, using: 0 HPUs\n"
     ]
    },
    {
     "data": {
      "application/vnd.jupyter.widget-view+json": {
       "model_id": "892bae30af934cd0aef465256003e33c",
       "version_major": 2,
       "version_minor": 0
      },
      "text/plain": [
       "Predicting: |          | 0/? [00:00<?, ?it/s]"
      ]
     },
     "metadata": {},
     "output_type": "display_data"
    },
    {
     "name": "stderr",
     "output_type": "stream",
     "text": [
      "Seed set to 42\n"
     ]
    },
    {
     "name": "stdout",
     "output_type": "stream",
     "text": [
      "Metrics for KAN: {'MAE': 34.881692285991846, 'rMAE': 0.9727403549148776, 'RMSE': 99.50945033890612, 'MBE': -10.363750405992779, 'SMAPE': 0.6388013833196928, 'R2': 0.163320469583782}\n",
      "Metrics for Naive: {'MAE': 35.859201388888884, 'rMAE': 1.0, 'RMSE': 100.76881858936653, 'MBE': -11.343635912698412, 'SMAPE': 0.5827001403856011, 'R2': 0.14200882039814755}\n",
      "Completed: QLD - Week 2\n",
      "Processing week: Week 3\n"
     ]
    },
    {
     "name": "stderr",
     "output_type": "stream",
     "text": [
      "GPU available: False, used: False\n",
      "TPU available: False, using: 0 TPU cores\n",
      "HPU available: False, using: 0 HPUs\n",
      "\n",
      "  | Name         | Type          | Params | Mode \n",
      "-------------------------------------------------------\n",
      "0 | loss         | MAE           | 0      | train\n",
      "1 | padder_train | ConstantPad1d | 0      | train\n",
      "2 | scaler       | TemporalNorm  | 0      | train\n",
      "3 | layers       | ModuleList    | 19.9 M | train\n",
      "-------------------------------------------------------\n",
      "19.9 M    Trainable params\n",
      "0         Non-trainable params\n",
      "19.9 M    Total params\n",
      "79.479    Total estimated model params size (MB)\n",
      "8         Modules in train mode\n",
      "0         Modules in eval mode\n"
     ]
    },
    {
     "data": {
      "application/vnd.jupyter.widget-view+json": {
       "model_id": "181ef46929664c5097339e24b7a1a117",
       "version_major": 2,
       "version_minor": 0
      },
      "text/plain": [
       "Sanity Checking: |          | 0/? [00:00<?, ?it/s]"
      ]
     },
     "metadata": {},
     "output_type": "display_data"
    },
    {
     "data": {
      "application/vnd.jupyter.widget-view+json": {
       "model_id": "49c143cf7b6044a787c2a10ad2372250",
       "version_major": 2,
       "version_minor": 0
      },
      "text/plain": [
       "Training: |          | 0/? [00:00<?, ?it/s]"
      ]
     },
     "metadata": {},
     "output_type": "display_data"
    },
    {
     "data": {
      "application/vnd.jupyter.widget-view+json": {
       "model_id": "8c35ae012f014374a2113234782682ee",
       "version_major": 2,
       "version_minor": 0
      },
      "text/plain": [
       "Validation: |          | 0/? [00:00<?, ?it/s]"
      ]
     },
     "metadata": {},
     "output_type": "display_data"
    },
    {
     "data": {
      "application/vnd.jupyter.widget-view+json": {
       "model_id": "bfb82d42cb784e80a5e66c55a24fb6a7",
       "version_major": 2,
       "version_minor": 0
      },
      "text/plain": [
       "Validation: |          | 0/? [00:00<?, ?it/s]"
      ]
     },
     "metadata": {},
     "output_type": "display_data"
    },
    {
     "name": "stderr",
     "output_type": "stream",
     "text": [
      "`Trainer.fit` stopped: `max_steps=250` reached.\n",
      "Trainer already configured with model summary callbacks: [<class 'pytorch_lightning.callbacks.model_summary.ModelSummary'>]. Skipping setting a default `ModelSummary` callback.\n",
      "GPU available: False, used: False\n",
      "TPU available: False, using: 0 TPU cores\n",
      "HPU available: False, using: 0 HPUs\n"
     ]
    },
    {
     "data": {
      "application/vnd.jupyter.widget-view+json": {
       "model_id": "1359670d59d34faf97ee43bdd1f2848e",
       "version_major": 2,
       "version_minor": 0
      },
      "text/plain": [
       "Predicting: |          | 0/? [00:00<?, ?it/s]"
      ]
     },
     "metadata": {},
     "output_type": "display_data"
    },
    {
     "name": "stderr",
     "output_type": "stream",
     "text": [
      "Seed set to 42\n"
     ]
    },
    {
     "name": "stdout",
     "output_type": "stream",
     "text": [
      "Metrics for KAN: {'MAE': 30.65543114344279, 'rMAE': 0.843158358398065, 'RMSE': 38.31454588753198, 'MBE': 14.641681764693487, 'SMAPE': 0.5425734803046117, 'R2': 0.6062604498427979}\n",
      "Metrics for Naive: {'MAE': 36.35785714285714, 'rMAE': 1.0, 'RMSE': 95.33419962720541, 'MBE': -1.8282142857142853, 'SMAPE': 0.6171476030135302, 'R2': -1.4376936458787415}\n",
      "Completed: QLD - Week 3\n",
      "Processing week: Week 4\n"
     ]
    },
    {
     "name": "stderr",
     "output_type": "stream",
     "text": [
      "GPU available: False, used: False\n",
      "TPU available: False, using: 0 TPU cores\n",
      "HPU available: False, using: 0 HPUs\n",
      "\n",
      "  | Name         | Type          | Params | Mode \n",
      "-------------------------------------------------------\n",
      "0 | loss         | MAE           | 0      | train\n",
      "1 | padder_train | ConstantPad1d | 0      | train\n",
      "2 | scaler       | TemporalNorm  | 0      | train\n",
      "3 | layers       | ModuleList    | 19.9 M | train\n",
      "-------------------------------------------------------\n",
      "19.9 M    Trainable params\n",
      "0         Non-trainable params\n",
      "19.9 M    Total params\n",
      "79.479    Total estimated model params size (MB)\n",
      "8         Modules in train mode\n",
      "0         Modules in eval mode\n"
     ]
    },
    {
     "data": {
      "application/vnd.jupyter.widget-view+json": {
       "model_id": "2a9f762b76d44d208eb2070667b258aa",
       "version_major": 2,
       "version_minor": 0
      },
      "text/plain": [
       "Sanity Checking: |          | 0/? [00:00<?, ?it/s]"
      ]
     },
     "metadata": {},
     "output_type": "display_data"
    },
    {
     "data": {
      "application/vnd.jupyter.widget-view+json": {
       "model_id": "5b7ae2baa7004b92b39cd5b4fc0dc63c",
       "version_major": 2,
       "version_minor": 0
      },
      "text/plain": [
       "Training: |          | 0/? [00:00<?, ?it/s]"
      ]
     },
     "metadata": {},
     "output_type": "display_data"
    },
    {
     "data": {
      "application/vnd.jupyter.widget-view+json": {
       "model_id": "5974c9aa56ee41a1b808335f27ae045f",
       "version_major": 2,
       "version_minor": 0
      },
      "text/plain": [
       "Validation: |          | 0/? [00:00<?, ?it/s]"
      ]
     },
     "metadata": {},
     "output_type": "display_data"
    },
    {
     "data": {
      "application/vnd.jupyter.widget-view+json": {
       "model_id": "9b93fd2654474fbd88c162c5ac22fcba",
       "version_major": 2,
       "version_minor": 0
      },
      "text/plain": [
       "Validation: |          | 0/? [00:00<?, ?it/s]"
      ]
     },
     "metadata": {},
     "output_type": "display_data"
    },
    {
     "name": "stderr",
     "output_type": "stream",
     "text": [
      "`Trainer.fit` stopped: `max_steps=250` reached.\n",
      "Trainer already configured with model summary callbacks: [<class 'pytorch_lightning.callbacks.model_summary.ModelSummary'>]. Skipping setting a default `ModelSummary` callback.\n",
      "GPU available: False, used: False\n",
      "TPU available: False, using: 0 TPU cores\n",
      "HPU available: False, using: 0 HPUs\n"
     ]
    },
    {
     "data": {
      "application/vnd.jupyter.widget-view+json": {
       "model_id": "28900b33c875454ba2e6f23b35792263",
       "version_major": 2,
       "version_minor": 0
      },
      "text/plain": [
       "Predicting: |          | 0/? [00:00<?, ?it/s]"
      ]
     },
     "metadata": {},
     "output_type": "display_data"
    },
    {
     "name": "stderr",
     "output_type": "stream",
     "text": [
      "Seed set to 42\n"
     ]
    },
    {
     "name": "stdout",
     "output_type": "stream",
     "text": [
      "Metrics for KAN: {'MAE': 26.650780637226404, 'rMAE': 0.6260618139004298, 'RMSE': 33.95442639356112, 'MBE': 0.9199968434893895, 'SMAPE': 0.31267123354397847, 'R2': 0.25278111701934325}\n",
      "Metrics for Naive: {'MAE': 42.56892857142857, 'rMAE': 1.0, 'RMSE': 54.257218676079916, 'MBE': -15.932132936507937, 'SMAPE': 0.6299392336495335, 'R2': -0.9079636512526157}\n",
      "Completed: QLD - Week 4\n",
      "Saved consolidated metrics and results for QLD\n",
      "Processing state: TAS\n",
      "Processing week: Week 1\n"
     ]
    },
    {
     "name": "stderr",
     "output_type": "stream",
     "text": [
      "GPU available: False, used: False\n",
      "TPU available: False, using: 0 TPU cores\n",
      "HPU available: False, using: 0 HPUs\n",
      "\n",
      "  | Name         | Type          | Params | Mode \n",
      "-------------------------------------------------------\n",
      "0 | loss         | MAE           | 0      | train\n",
      "1 | padder_train | ConstantPad1d | 0      | train\n",
      "2 | scaler       | TemporalNorm  | 0      | train\n",
      "3 | layers       | ModuleList    | 19.9 M | train\n",
      "-------------------------------------------------------\n",
      "19.9 M    Trainable params\n",
      "0         Non-trainable params\n",
      "19.9 M    Total params\n",
      "79.479    Total estimated model params size (MB)\n",
      "8         Modules in train mode\n",
      "0         Modules in eval mode\n"
     ]
    },
    {
     "data": {
      "application/vnd.jupyter.widget-view+json": {
       "model_id": "cf38f71b1b6d4a00be56b9c722617451",
       "version_major": 2,
       "version_minor": 0
      },
      "text/plain": [
       "Sanity Checking: |          | 0/? [00:00<?, ?it/s]"
      ]
     },
     "metadata": {},
     "output_type": "display_data"
    },
    {
     "data": {
      "application/vnd.jupyter.widget-view+json": {
       "model_id": "669529914fef44369c98b04b67744d6f",
       "version_major": 2,
       "version_minor": 0
      },
      "text/plain": [
       "Training: |          | 0/? [00:00<?, ?it/s]"
      ]
     },
     "metadata": {},
     "output_type": "display_data"
    },
    {
     "data": {
      "application/vnd.jupyter.widget-view+json": {
       "model_id": "e6eaa472d1f14145bc2dbc657793fadb",
       "version_major": 2,
       "version_minor": 0
      },
      "text/plain": [
       "Validation: |          | 0/? [00:00<?, ?it/s]"
      ]
     },
     "metadata": {},
     "output_type": "display_data"
    },
    {
     "data": {
      "application/vnd.jupyter.widget-view+json": {
       "model_id": "4ab06aa6cc064a268c90cf8f22bdb96e",
       "version_major": 2,
       "version_minor": 0
      },
      "text/plain": [
       "Validation: |          | 0/? [00:00<?, ?it/s]"
      ]
     },
     "metadata": {},
     "output_type": "display_data"
    },
    {
     "name": "stderr",
     "output_type": "stream",
     "text": [
      "`Trainer.fit` stopped: `max_steps=250` reached.\n",
      "Trainer already configured with model summary callbacks: [<class 'pytorch_lightning.callbacks.model_summary.ModelSummary'>]. Skipping setting a default `ModelSummary` callback.\n",
      "GPU available: False, used: False\n",
      "TPU available: False, using: 0 TPU cores\n",
      "HPU available: False, using: 0 HPUs\n"
     ]
    },
    {
     "data": {
      "application/vnd.jupyter.widget-view+json": {
       "model_id": "9a573666078747e099900c5fcf59ebf8",
       "version_major": 2,
       "version_minor": 0
      },
      "text/plain": [
       "Predicting: |          | 0/? [00:00<?, ?it/s]"
      ]
     },
     "metadata": {},
     "output_type": "display_data"
    },
    {
     "name": "stderr",
     "output_type": "stream",
     "text": [
      "Seed set to 42\n"
     ]
    },
    {
     "name": "stdout",
     "output_type": "stream",
     "text": [
      "Metrics for KAN: {'MAE': 45.88548161673167, 'rMAE': 1.041334298955009, 'RMSE': 59.15741544125349, 'MBE': 41.14555166183955, 'SMAPE': 0.513124709117976, 'R2': -0.5869865892903554}\n",
      "Metrics for Naive: {'MAE': 44.06412202380953, 'rMAE': 1.0, 'RMSE': 57.798643602260064, 'MBE': 8.211423611111107, 'SMAPE': 0.5759573213404374, 'R2': -0.5149216314668617}\n",
      "Completed: TAS - Week 1\n",
      "Processing week: Week 2\n"
     ]
    },
    {
     "name": "stderr",
     "output_type": "stream",
     "text": [
      "GPU available: False, used: False\n",
      "TPU available: False, using: 0 TPU cores\n",
      "HPU available: False, using: 0 HPUs\n",
      "\n",
      "  | Name         | Type          | Params | Mode \n",
      "-------------------------------------------------------\n",
      "0 | loss         | MAE           | 0      | train\n",
      "1 | padder_train | ConstantPad1d | 0      | train\n",
      "2 | scaler       | TemporalNorm  | 0      | train\n",
      "3 | layers       | ModuleList    | 19.9 M | train\n",
      "-------------------------------------------------------\n",
      "19.9 M    Trainable params\n",
      "0         Non-trainable params\n",
      "19.9 M    Total params\n",
      "79.479    Total estimated model params size (MB)\n",
      "8         Modules in train mode\n",
      "0         Modules in eval mode\n"
     ]
    },
    {
     "data": {
      "application/vnd.jupyter.widget-view+json": {
       "model_id": "d262a5eb79a0485581b14ae6979d0b95",
       "version_major": 2,
       "version_minor": 0
      },
      "text/plain": [
       "Sanity Checking: |          | 0/? [00:00<?, ?it/s]"
      ]
     },
     "metadata": {},
     "output_type": "display_data"
    },
    {
     "data": {
      "application/vnd.jupyter.widget-view+json": {
       "model_id": "198ecdaea3764cc8ae31c3c3425e26d1",
       "version_major": 2,
       "version_minor": 0
      },
      "text/plain": [
       "Training: |          | 0/? [00:00<?, ?it/s]"
      ]
     },
     "metadata": {},
     "output_type": "display_data"
    },
    {
     "data": {
      "application/vnd.jupyter.widget-view+json": {
       "model_id": "5174c10e4a484876bad82d4e2edbc3c7",
       "version_major": 2,
       "version_minor": 0
      },
      "text/plain": [
       "Validation: |          | 0/? [00:00<?, ?it/s]"
      ]
     },
     "metadata": {},
     "output_type": "display_data"
    },
    {
     "data": {
      "application/vnd.jupyter.widget-view+json": {
       "model_id": "afc419d4066b4f0997889202b973ca3a",
       "version_major": 2,
       "version_minor": 0
      },
      "text/plain": [
       "Validation: |          | 0/? [00:00<?, ?it/s]"
      ]
     },
     "metadata": {},
     "output_type": "display_data"
    },
    {
     "name": "stderr",
     "output_type": "stream",
     "text": [
      "`Trainer.fit` stopped: `max_steps=250` reached.\n",
      "Trainer already configured with model summary callbacks: [<class 'pytorch_lightning.callbacks.model_summary.ModelSummary'>]. Skipping setting a default `ModelSummary` callback.\n",
      "GPU available: False, used: False\n",
      "TPU available: False, using: 0 TPU cores\n",
      "HPU available: False, using: 0 HPUs\n"
     ]
    },
    {
     "data": {
      "application/vnd.jupyter.widget-view+json": {
       "model_id": "50c38241d2e243588ca0dc5fd46198d5",
       "version_major": 2,
       "version_minor": 0
      },
      "text/plain": [
       "Predicting: |          | 0/? [00:00<?, ?it/s]"
      ]
     },
     "metadata": {},
     "output_type": "display_data"
    },
    {
     "name": "stderr",
     "output_type": "stream",
     "text": [
      "Seed set to 42\n"
     ]
    },
    {
     "name": "stdout",
     "output_type": "stream",
     "text": [
      "Metrics for KAN: {'MAE': 22.22437661398025, 'rMAE': 0.5764921722883681, 'RMSE': 29.761305217510863, 'MBE': -10.970883126940057, 'SMAPE': 0.2119895531361536, 'R2': 0.09341896291574459}\n",
      "Metrics for Naive: {'MAE': 38.55104662698413, 'rMAE': 1.0, 'RMSE': 53.23005784816831, 'MBE': -18.121284722222217, 'SMAPE': 0.48784678174455026, 'R2': -1.900123947035222}\n",
      "Completed: TAS - Week 2\n",
      "Processing week: Week 3\n"
     ]
    },
    {
     "name": "stderr",
     "output_type": "stream",
     "text": [
      "GPU available: False, used: False\n",
      "TPU available: False, using: 0 TPU cores\n",
      "HPU available: False, using: 0 HPUs\n",
      "\n",
      "  | Name         | Type          | Params | Mode \n",
      "-------------------------------------------------------\n",
      "0 | loss         | MAE           | 0      | train\n",
      "1 | padder_train | ConstantPad1d | 0      | train\n",
      "2 | scaler       | TemporalNorm  | 0      | train\n",
      "3 | layers       | ModuleList    | 19.9 M | train\n",
      "-------------------------------------------------------\n",
      "19.9 M    Trainable params\n",
      "0         Non-trainable params\n",
      "19.9 M    Total params\n",
      "79.479    Total estimated model params size (MB)\n",
      "8         Modules in train mode\n",
      "0         Modules in eval mode\n"
     ]
    },
    {
     "data": {
      "application/vnd.jupyter.widget-view+json": {
       "model_id": "8e3a0d8872594301bd969a6d13604a33",
       "version_major": 2,
       "version_minor": 0
      },
      "text/plain": [
       "Sanity Checking: |          | 0/? [00:00<?, ?it/s]"
      ]
     },
     "metadata": {},
     "output_type": "display_data"
    },
    {
     "data": {
      "application/vnd.jupyter.widget-view+json": {
       "model_id": "5f26bcd5b5c948a6a82a074e084d4b31",
       "version_major": 2,
       "version_minor": 0
      },
      "text/plain": [
       "Training: |          | 0/? [00:00<?, ?it/s]"
      ]
     },
     "metadata": {},
     "output_type": "display_data"
    },
    {
     "data": {
      "application/vnd.jupyter.widget-view+json": {
       "model_id": "b316d1ddf3884303b6e85b2b5b66a89a",
       "version_major": 2,
       "version_minor": 0
      },
      "text/plain": [
       "Validation: |          | 0/? [00:00<?, ?it/s]"
      ]
     },
     "metadata": {},
     "output_type": "display_data"
    },
    {
     "data": {
      "application/vnd.jupyter.widget-view+json": {
       "model_id": "c93ff5dc78cc465db0f01f9b3e0a1628",
       "version_major": 2,
       "version_minor": 0
      },
      "text/plain": [
       "Validation: |          | 0/? [00:00<?, ?it/s]"
      ]
     },
     "metadata": {},
     "output_type": "display_data"
    },
    {
     "name": "stderr",
     "output_type": "stream",
     "text": [
      "`Trainer.fit` stopped: `max_steps=250` reached.\n",
      "Trainer already configured with model summary callbacks: [<class 'pytorch_lightning.callbacks.model_summary.ModelSummary'>]. Skipping setting a default `ModelSummary` callback.\n",
      "GPU available: False, used: False\n",
      "TPU available: False, using: 0 TPU cores\n",
      "HPU available: False, using: 0 HPUs\n"
     ]
    },
    {
     "data": {
      "application/vnd.jupyter.widget-view+json": {
       "model_id": "9218daa7dbd947128d7d22c09e45d0b0",
       "version_major": 2,
       "version_minor": 0
      },
      "text/plain": [
       "Predicting: |          | 0/? [00:00<?, ?it/s]"
      ]
     },
     "metadata": {},
     "output_type": "display_data"
    },
    {
     "name": "stderr",
     "output_type": "stream",
     "text": [
      "Seed set to 42\n"
     ]
    },
    {
     "name": "stdout",
     "output_type": "stream",
     "text": [
      "Metrics for KAN: {'MAE': 26.841762477329798, 'rMAE': 0.8262502035247656, 'RMSE': 33.00598648161486, 'MBE': -3.7355514241778796, 'SMAPE': 0.36150401584341063, 'R2': 0.2750237351009528}\n",
      "Metrics for Naive: {'MAE': 32.48624007936508, 'rMAE': 1.0, 'RMSE': 49.33000495545711, 'MBE': 14.734335317460316, 'SMAPE': 0.3575058703928171, 'R2': -0.6194243742631798}\n",
      "Completed: TAS - Week 3\n",
      "Processing week: Week 4\n"
     ]
    },
    {
     "name": "stderr",
     "output_type": "stream",
     "text": [
      "GPU available: False, used: False\n",
      "TPU available: False, using: 0 TPU cores\n",
      "HPU available: False, using: 0 HPUs\n",
      "\n",
      "  | Name         | Type          | Params | Mode \n",
      "-------------------------------------------------------\n",
      "0 | loss         | MAE           | 0      | train\n",
      "1 | padder_train | ConstantPad1d | 0      | train\n",
      "2 | scaler       | TemporalNorm  | 0      | train\n",
      "3 | layers       | ModuleList    | 19.9 M | train\n",
      "-------------------------------------------------------\n",
      "19.9 M    Trainable params\n",
      "0         Non-trainable params\n",
      "19.9 M    Total params\n",
      "79.479    Total estimated model params size (MB)\n",
      "8         Modules in train mode\n",
      "0         Modules in eval mode\n"
     ]
    },
    {
     "data": {
      "application/vnd.jupyter.widget-view+json": {
       "model_id": "35ca1d7714aa416d89bbf773665ce6ba",
       "version_major": 2,
       "version_minor": 0
      },
      "text/plain": [
       "Sanity Checking: |          | 0/? [00:00<?, ?it/s]"
      ]
     },
     "metadata": {},
     "output_type": "display_data"
    },
    {
     "data": {
      "application/vnd.jupyter.widget-view+json": {
       "model_id": "bf4d5d446abf47ebb420dbae251355cd",
       "version_major": 2,
       "version_minor": 0
      },
      "text/plain": [
       "Training: |          | 0/? [00:00<?, ?it/s]"
      ]
     },
     "metadata": {},
     "output_type": "display_data"
    },
    {
     "data": {
      "application/vnd.jupyter.widget-view+json": {
       "model_id": "aaaf9180ca86499bab44a5087d11405f",
       "version_major": 2,
       "version_minor": 0
      },
      "text/plain": [
       "Validation: |          | 0/? [00:00<?, ?it/s]"
      ]
     },
     "metadata": {},
     "output_type": "display_data"
    },
    {
     "data": {
      "application/vnd.jupyter.widget-view+json": {
       "model_id": "e2577ef087a443c1bc2494acde296ae0",
       "version_major": 2,
       "version_minor": 0
      },
      "text/plain": [
       "Validation: |          | 0/? [00:00<?, ?it/s]"
      ]
     },
     "metadata": {},
     "output_type": "display_data"
    },
    {
     "name": "stderr",
     "output_type": "stream",
     "text": [
      "`Trainer.fit` stopped: `max_steps=250` reached.\n",
      "Trainer already configured with model summary callbacks: [<class 'pytorch_lightning.callbacks.model_summary.ModelSummary'>]. Skipping setting a default `ModelSummary` callback.\n",
      "GPU available: False, used: False\n",
      "TPU available: False, using: 0 TPU cores\n",
      "HPU available: False, using: 0 HPUs\n"
     ]
    },
    {
     "data": {
      "application/vnd.jupyter.widget-view+json": {
       "model_id": "794b12a41d2642b98c1f8b7dbdcc9aaa",
       "version_major": 2,
       "version_minor": 0
      },
      "text/plain": [
       "Predicting: |          | 0/? [00:00<?, ?it/s]"
      ]
     },
     "metadata": {},
     "output_type": "display_data"
    },
    {
     "name": "stdout",
     "output_type": "stream",
     "text": [
      "Metrics for KAN: {'MAE': 54.383011971731015, 'rMAE': 1.7060957425785532, 'RMSE': 61.827160300800486, 'MBE': 53.164658815293066, 'SMAPE': 0.4713675846427679, 'R2': -2.0873344514085286}\n",
      "Metrics for Naive: {'MAE': 31.87570932539683, 'rMAE': 1.0, 'RMSE': 43.94874718695716, 'MBE': -4.4005406746031746, 'SMAPE': 0.42444227365299303, 'R2': -0.5599765797781004}\n",
      "Completed: TAS - Week 4\n",
      "Saved consolidated metrics and results for TAS\n",
      "All states and weeks processed successfully.\n"
     ]
    }
   ],
   "source": [
    "# Custom Metrics\n",
    "def mean_bias_error(y_true, y_pred):\n",
    "    return np.mean(y_pred - y_true)\n",
    "\n",
    "\n",
    "def symmetric_mean_absolute_percentage_error(y_true, y_pred):\n",
    "    epsilon = 1e-10\n",
    "    return np.mean(\n",
    "        2 * np.abs(y_pred - y_true) / (np.abs(y_true) + np.abs(y_pred) + epsilon)\n",
    "    )\n",
    "\n",
    "\n",
    "def rmae(y_true, y_pred, naive_forecast):\n",
    "    return mean_absolute_error(y_true, y_pred) / mean_absolute_error(\n",
    "        y_true, naive_forecast\n",
    "    )\n",
    "\n",
    "\n",
    "# Set plot style\n",
    "sns.set_theme(style=\"whitegrid\")\n",
    "\n",
    "# States and Weeks\n",
    "states = [\"VIC\", \"SA\", \"NSW\", \"QLD\", \"TAS\"]\n",
    "forecast_windows = {\n",
    "    1: (\"2025-03-01 00:00:00\", \"2025-03-07 23:00:00\"),\n",
    "    2: (\"2025-03-08 00:00:00\", \"2025-03-14 23:00:00\"),\n",
    "    3: (\"2025-03-15 00:00:00\", \"2025-03-21 23:00:00\"),\n",
    "    4: (\"2025-03-22 00:00:00\", \"2025-03-28 23:00:00\"),\n",
    "}\n",
    "weeks = {1: \"Week 1\", 2: \"Week 2\", 3: \"Week 3\", 4: \"Week 4\"}\n",
    "\n",
    "for state in states:\n",
    "    print(f\"Processing state: {state}\")\n",
    "    # Load and preprocess data\n",
    "    df = pd.read_csv(\n",
    "        f\"../data/featurised/{state}_test_final.csv\", parse_dates=[\"SETTLEMENTDATE\"]\n",
    "    )\n",
    "    df.rename(columns={\"SETTLEMENTDATE\": \"ds\", \"asinh_RRP\": \"y\"}, inplace=True)\n",
    "    df[\"unique_id\"] = state\n",
    "    rrp_median = df[\"rrp_median\"].values[0]\n",
    "    rrp_mad = df[\"rrp_mad\"].values[0]\n",
    "\n",
    "    exog_cols = [\n",
    "        \"asinh_RRP_lag_168\",\n",
    "        \"TOTALDEMAND\",\n",
    "        \"NETINTERCHANGE\",\n",
    "        \"SS_SOLAR_UIGF\",\n",
    "        \"SS_WIND_UIGF\",\n",
    "        \"tempC\",\n",
    "    ]\n",
    "    req_cols = [\"unique_id\", \"ds\", \"y\"]\n",
    "    df = df[req_cols + exog_cols]\n",
    "    df.sort_values(by=[\"unique_id\", \"ds\"], inplace=True)\n",
    "    df.set_index(\"ds\", inplace=True)\n",
    "    df = df.asfreq(\"h\").reset_index()\n",
    "\n",
    "    # Prepare combined results and metrics storage\n",
    "    all_results_df = pd.DataFrame()\n",
    "    metrics_df = pd.DataFrame()\n",
    "\n",
    "    for week in range(1, 5):\n",
    "        print(f\"Processing week: {weeks[week]}\")\n",
    "        forecast_start, forecast_end = forecast_windows[week]\n",
    "\n",
    "        Y_train_df = df[df.ds < forecast_start].copy()\n",
    "        Y_test_df = df[(df.ds >= forecast_start) & (df.ds <= forecast_end)].copy()\n",
    "\n",
    "        # Define KAN model\n",
    "        nf = NeuralForecast(\n",
    "            models=[\n",
    "                KAN(\n",
    "                    h=168,\n",
    "                    input_size=336,\n",
    "                    loss=MAE(),\n",
    "                    max_steps=250,\n",
    "                    n_hidden_layers=1,\n",
    "                    grid_size=5,\n",
    "                    spline_order=4,\n",
    "                    scaler_type=\"minmax\",\n",
    "                    futr_exog_list=exog_cols,\n",
    "                    early_stop_patience_steps=50,\n",
    "                    random_seed=42,\n",
    "                ),\n",
    "            ],\n",
    "            freq=\"h\",\n",
    "        )\n",
    "\n",
    "        # Train the model\n",
    "        val_len = 24 * 7 * 4\n",
    "        nf.fit(df=Y_train_df, val_size=val_len)\n",
    "\n",
    "        # Make predictions\n",
    "        forecasts = nf.predict(futr_df=Y_test_df)\n",
    "        Y_test_df = Y_test_df.reset_index(drop=True)\n",
    "        forecasts = forecasts.reset_index(drop=True)\n",
    "\n",
    "        # Merge predictions with actual values\n",
    "        results_df = pd.merge(\n",
    "            Y_test_df[[\"ds\", \"y\"]], forecasts[[\"ds\", \"KAN\"]], on=\"ds\", how=\"left\"\n",
    "        )\n",
    "        results_df[\"y\"] = np.sinh(results_df[\"y\"]) * rrp_mad + rrp_median\n",
    "        results_df[\"KAN\"] = np.sinh(results_df[\"KAN\"]) * rrp_mad + rrp_median\n",
    "\n",
    "        # Naive Forecast (last 168 hours of training)\n",
    "        Y_train_df[\"y\"] = np.sinh(Y_train_df[\"y\"]) * rrp_mad + rrp_median\n",
    "        naive_forecast = Y_train_df[\"y\"].iloc[-168:].reset_index(drop=True)\n",
    "        results_df[\"Naive\"] = naive_forecast.values\n",
    "\n",
    "        # Add week identifier\n",
    "        results_df[\"week\"] = weeks[week]\n",
    "\n",
    "        # Append to combined results for the state\n",
    "        all_results_df = pd.concat([all_results_df, results_df], ignore_index=True)\n",
    "\n",
    "        # Calculate metrics for KAN and Naive\n",
    "        for model in [\"KAN\", \"Naive\"]:\n",
    "            metrics = {\n",
    "                \"MAE\": float(mean_absolute_error(results_df[\"y\"], results_df[model])),\n",
    "                \"rMAE\": float(\n",
    "                    rmae(results_df[\"y\"], results_df[model], results_df[\"Naive\"])\n",
    "                ),\n",
    "                \"RMSE\": float(\n",
    "                    root_mean_squared_error(results_df[\"y\"], results_df[model])\n",
    "                ),\n",
    "                \"MBE\": float(mean_bias_error(results_df[\"y\"], results_df[model])),\n",
    "                \"SMAPE\": float(\n",
    "                    symmetric_mean_absolute_percentage_error(\n",
    "                        results_df[\"y\"], results_df[model]\n",
    "                    )\n",
    "                ),\n",
    "                \"R2\": float(r2_score(results_df[\"y\"], results_df[model])),\n",
    "            }\n",
    "\n",
    "            print(f\"Metrics for {model}: {metrics}\")\n",
    "\n",
    "            # Add to metrics_df\n",
    "            week_metrics_df = pd.DataFrame(\n",
    "                metrics, index=[f\"{model} ({weeks[week]})\"]\n",
    "            ).T\n",
    "            metrics_df = pd.concat([metrics_df, week_metrics_df], axis=1)\n",
    "\n",
    "        print(f\"Completed: {state} - {weeks[week]}\")\n",
    "\n",
    "    # Save all metrics for this state\n",
    "    metrics_df.to_csv(\n",
    "        f\"./asinh_kan_outputs/{state}/{state}_metrics_all_weeks.csv\", index=True\n",
    "    )\n",
    "\n",
    "    # Save all results for this state\n",
    "    all_results_df.to_csv(\n",
    "        f\"./asinh_kan_outputs/{state}/{state}_results_all_weeks.csv\", index=False\n",
    "    )\n",
    "\n",
    "    print(f\"Saved consolidated metrics and results for {state}\")\n",
    "\n",
    "print(\"All states and weeks processed successfully.\")"
   ]
  }
 ],
 "metadata": {
  "kernelspec": {
   "display_name": "tf310",
   "language": "python",
   "name": "python3"
  },
  "language_info": {
   "codemirror_mode": {
    "name": "ipython",
    "version": 3
   },
   "file_extension": ".py",
   "mimetype": "text/x-python",
   "name": "python",
   "nbconvert_exporter": "python",
   "pygments_lexer": "ipython3",
   "version": "3.10.11"
  }
 },
 "nbformat": 4,
 "nbformat_minor": 5
}
